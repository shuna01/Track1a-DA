{
 "cells": [
  {
   "cell_type": "markdown",
   "metadata": {
    "colab_type": "text",
    "id": "Vf00dTD8ImOy"
   },
   "source": [
    "# 1. Create a list that holds 5 data variables"
   ]
  },
  {
   "cell_type": "code",
   "execution_count": 1,
   "metadata": {
    "colab": {},
    "colab_type": "code",
    "id": "EkpxTDGXIr0z"
   },
   "outputs": [],
   "source": [
    "favorite_food_list = ['sushi','korean bbq','pho','cheesecake','pasta']"
   ]
  },
  {
   "cell_type": "markdown",
   "metadata": {
    "colab_type": "text",
    "id": "DJCoUtWFItLO"
   },
   "source": [
    "# 2.\tPrint out those variables by using a for loop"
   ]
  },
  {
   "cell_type": "code",
   "execution_count": 2,
   "metadata": {
    "colab": {},
    "colab_type": "code",
    "id": "vMlTDEx-IwhJ"
   },
   "outputs": [
    {
     "name": "stdout",
     "output_type": "stream",
     "text": [
      "sushi\n",
      "korean bbq\n",
      "pho\n",
      "cheesecake\n",
      "pasta\n"
     ]
    }
   ],
   "source": [
    "for food in favorite_food_list:\n",
    "    print(food)"
   ]
  },
  {
   "cell_type": "markdown",
   "metadata": {
    "colab_type": "text",
    "id": "0qmfDU_sIxK6"
   },
   "source": [
    "# 3.\tModify your for loop to add a message to your for loop"
   ]
  },
  {
   "cell_type": "code",
   "execution_count": 3,
   "metadata": {
    "colab": {},
    "colab_type": "code",
    "id": "mwq4RZXQI1Ay"
   },
   "outputs": [
    {
     "name": "stdout",
     "output_type": "stream",
     "text": [
      "Sushi is my favorite food.\n",
      "Korean bbq is my favorite food.\n",
      "Pho is my favorite food.\n",
      "Cheesecake is my favorite food.\n",
      "Pasta is my favorite food.\n"
     ]
    }
   ],
   "source": [
    "for food in favorite_food_list:\n",
    "    print(food.capitalize() + ' is my favorite food.')"
   ]
  },
  {
   "cell_type": "markdown",
   "metadata": {
    "colab_type": "text",
    "id": "TihNGMcdI10W"
   },
   "source": [
    "# 4.\tUse a for loop to print even numbers from 1-20"
   ]
  },
  {
   "cell_type": "code",
   "execution_count": 4,
   "metadata": {
    "colab": {},
    "colab_type": "code",
    "id": "_jOlbMLOI6qj"
   },
   "outputs": [],
   "source": [
    "my_list_even = list(range(0,20,2))"
   ]
  },
  {
   "cell_type": "code",
   "execution_count": 5,
   "metadata": {
    "colab": {},
    "colab_type": "code",
    "id": "7mH2eL-zI7jP"
   },
   "outputs": [
    {
     "name": "stdout",
     "output_type": "stream",
     "text": [
      "0\n",
      "2\n",
      "4\n",
      "6\n",
      "8\n",
      "10\n",
      "12\n",
      "14\n",
      "16\n",
      "18\n"
     ]
    }
   ],
   "source": [
    "for my_evens in my_list_even:\n",
    "    print(my_evens)"
   ]
  },
  {
   "cell_type": "markdown",
   "metadata": {
    "colab_type": "text",
    "id": "iASbo9PjI8GF"
   },
   "source": [
    "# 5.\tSort your list in alphabetic order."
   ]
  },
  {
   "cell_type": "code",
   "execution_count": 6,
   "metadata": {
    "colab": {},
    "colab_type": "code",
    "id": "JN6vUnG0I_8J"
   },
   "outputs": [
    {
     "data": {
      "text/plain": [
       "['cheesecake', 'korean bbq', 'pasta', 'pho', 'sushi']"
      ]
     },
     "execution_count": 6,
     "metadata": {},
     "output_type": "execute_result"
    }
   ],
   "source": [
    "favorite_food_list.sort()\n",
    "favorite_food_list"
   ]
  },
  {
   "cell_type": "markdown",
   "metadata": {
    "colab_type": "text",
    "id": "fo0WVyBtJBvK"
   },
   "source": [
    "# 6.\tPrint out the first three elements of your list"
   ]
  },
  {
   "cell_type": "code",
   "execution_count": 7,
   "metadata": {
    "colab": {},
    "colab_type": "code",
    "id": "kb6knAw3JGIR"
   },
   "outputs": [
    {
     "data": {
      "text/plain": [
       "['cheesecake', 'korean bbq', 'pasta']"
      ]
     },
     "execution_count": 7,
     "metadata": {},
     "output_type": "execute_result"
    }
   ],
   "source": [
    "favorite_food_list[:3]"
   ]
  },
  {
   "cell_type": "markdown",
   "metadata": {
    "colab_type": "text",
    "id": "p3WfrdqlJG_G"
   },
   "source": [
    "# 7.\tCreate a loop to print the last 2 elements of your list"
   ]
  },
  {
   "cell_type": "code",
   "execution_count": 8,
   "metadata": {
    "colab": {},
    "colab_type": "code",
    "id": "U_MXSFnnJKUY"
   },
   "outputs": [
    {
     "name": "stdout",
     "output_type": "stream",
     "text": [
      "pho\n",
      "sushi\n"
     ]
    }
   ],
   "source": [
    "for food in favorite_food_list[-2:]:\n",
    "    print(food)"
   ]
  }
 ],
 "metadata": {
  "colab": {
   "name": "DA_Unit2_Assignment 3 Loop.ipynb",
   "provenance": []
  },
  "kernelspec": {
   "display_name": "Python 3",
   "language": "python",
   "name": "python3"
  },
  "language_info": {
   "codemirror_mode": {
    "name": "ipython",
    "version": 3
   },
   "file_extension": ".py",
   "mimetype": "text/x-python",
   "name": "python",
   "nbconvert_exporter": "python",
   "pygments_lexer": "ipython3",
   "version": "3.7.6"
  }
 },
 "nbformat": 4,
 "nbformat_minor": 1
}
